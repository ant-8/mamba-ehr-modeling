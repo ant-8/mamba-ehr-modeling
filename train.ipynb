{
 "cells": [
  {
   "cell_type": "code",
   "execution_count": 1,
   "id": "fc2de89d-34ff-4135-b449-54531c4c39b1",
   "metadata": {},
   "outputs": [
    {
     "name": "stderr",
     "output_type": "stream",
     "text": [
      "/home/trainer/anaconda3/envs/ml/lib/python3.11/site-packages/mamba_ssm/ops/selective_scan_interface.py:163: FutureWarning: `torch.cuda.amp.custom_fwd(args...)` is deprecated. Please use `torch.amp.custom_fwd(args..., device_type='cuda')` instead.\n",
      "  @custom_fwd\n",
      "/home/trainer/anaconda3/envs/ml/lib/python3.11/site-packages/mamba_ssm/ops/selective_scan_interface.py:239: FutureWarning: `torch.cuda.amp.custom_bwd(args...)` is deprecated. Please use `torch.amp.custom_bwd(args..., device_type='cuda')` instead.\n",
      "  @custom_bwd\n",
      "/home/trainer/anaconda3/envs/ml/lib/python3.11/site-packages/mamba_ssm/ops/triton/layer_norm.py:985: FutureWarning: `torch.cuda.amp.custom_fwd(args...)` is deprecated. Please use `torch.amp.custom_fwd(args..., device_type='cuda')` instead.\n",
      "  @custom_fwd\n",
      "/home/trainer/anaconda3/envs/ml/lib/python3.11/site-packages/mamba_ssm/ops/triton/layer_norm.py:1044: FutureWarning: `torch.cuda.amp.custom_bwd(args...)` is deprecated. Please use `torch.amp.custom_bwd(args..., device_type='cuda')` instead.\n",
      "  @custom_bwd\n",
      "/home/trainer/anaconda3/envs/ml/lib/python3.11/site-packages/mamba_ssm/distributed/tensor_parallel.py:25: FutureWarning: `torch.cuda.amp.custom_fwd(args...)` is deprecated. Please use `torch.amp.custom_fwd(args..., device_type='cuda')` instead.\n",
      "  @custom_fwd\n",
      "/home/trainer/anaconda3/envs/ml/lib/python3.11/site-packages/mamba_ssm/distributed/tensor_parallel.py:61: FutureWarning: `torch.cuda.amp.custom_bwd(args...)` is deprecated. Please use `torch.amp.custom_bwd(args..., device_type='cuda')` instead.\n",
      "  @custom_bwd\n",
      "/home/trainer/anaconda3/envs/ml/lib/python3.11/site-packages/mamba_ssm/ops/triton/ssd_combined.py:757: FutureWarning: `torch.cuda.amp.custom_fwd(args...)` is deprecated. Please use `torch.amp.custom_fwd(args..., device_type='cuda')` instead.\n",
      "  @custom_fwd\n",
      "/home/trainer/anaconda3/envs/ml/lib/python3.11/site-packages/mamba_ssm/ops/triton/ssd_combined.py:835: FutureWarning: `torch.cuda.amp.custom_bwd(args...)` is deprecated. Please use `torch.amp.custom_bwd(args..., device_type='cuda')` instead.\n",
      "  @custom_bwd\n",
      "Loading/Tokenizing: 100%|███████████████████████████████████████████████████████████████| 14/14 [03:07<00:00, 13.40s/it]\n"
     ]
    }
   ],
   "source": [
    "import torch\n",
    "from torch.utils.data import Dataset, DataLoader\n",
    "from dataset import PretrainDataset\n",
    "from transformers import Mamba2Config\n",
    "from modeling import Mamba2ForEHRModeling\n",
    "\n",
    "device = \"cuda:0\"\n",
    "\n",
    "config = Mamba2Config(\n",
    "    vocab_size=16384,\n",
    "    hidden_size=768,\n",
    "    num_heads=24,\n",
    "    num_hidden_layers=32,\n",
    ")\n",
    "\n",
    "model = Mamba2ForEHRModeling(config).to(torch.bfloat16).to(device)\n",
    "\n",
    "def pad_sequences(sequences, padding_value=0):\n",
    "    max_length = max(len(seq) for seq in sequences)\n",
    "    padded_sequences = [seq + [padding_value] * (max_length - len(seq)) for seq in sequences]\n",
    "    return padded_sequences\n",
    "\n",
    "def collate(batch):\n",
    "    result = {\n",
    "        \"concept_ids\": [],\n",
    "        \"age_ids\": [],\n",
    "        \"time_ids\": [],\n",
    "        \"segment_ids\": [],\n",
    "        \"visit_order_ids\": [],\n",
    "    }\n",
    "    \n",
    "    for sample in batch:\n",
    "        result[\"concept_ids\"].append(sample[\"concept_ids\"][:4096])\n",
    "        result[\"age_ids\"].append(sample[\"age_ids\"][:4096])\n",
    "        result[\"time_ids\"].append(sample[\"time_ids\"][:4096])\n",
    "        result[\"segment_ids\"].append(sample[\"segment_ids\"][:4096])\n",
    "        result[\"visit_order_ids\"].append(sample[\"visit_order_ids\"][:4096])\n",
    "\n",
    "    for key in result.keys():\n",
    "        if key == \"concept_ids\":\n",
    "            pad_id = train_dataset.tokenizer.pad_token_id\n",
    "        else:\n",
    "            pad_id = -1\n",
    "        result[key] = pad_sequences(result[key], pad_id)\n",
    "        result[key] = torch.tensor(result[key])\n",
    "    \n",
    "    return result\n",
    "batch_size = 4\n",
    "train_dataset = PretrainDataset(directory=\"./dataset\")\n",
    "trainloader = DataLoader(train_dataset, batch_size=batch_size, collate_fn=collate)"
   ]
  },
  {
   "cell_type": "code",
   "execution_count": 2,
   "id": "0dae50ea-3365-45c9-a8b8-dc2186b99c40",
   "metadata": {},
   "outputs": [
    {
     "name": "stderr",
     "output_type": "stream",
     "text": [
      "\u001b[34m\u001b[1mwandb\u001b[0m: Currently logged in as: \u001b[33manothy\u001b[0m (\u001b[33manothy1\u001b[0m). Use \u001b[1m`wandb login --relogin`\u001b[0m to force relogin\n"
     ]
    },
    {
     "data": {
      "text/html": [
       "wandb version 0.17.6 is available!  To upgrade, please run:\n",
       " $ pip install wandb --upgrade"
      ],
      "text/plain": [
       "<IPython.core.display.HTML object>"
      ]
     },
     "metadata": {},
     "output_type": "display_data"
    },
    {
     "data": {
      "text/html": [
       "Tracking run with wandb version 0.16.6"
      ],
      "text/plain": [
       "<IPython.core.display.HTML object>"
      ]
     },
     "metadata": {},
     "output_type": "display_data"
    },
    {
     "data": {
      "text/html": [
       "Run data is saved locally in <code>/home/trainer/ehr-modeling/wandb/run-20240811_060614-yw2ez4ot</code>"
      ],
      "text/plain": [
       "<IPython.core.display.HTML object>"
      ]
     },
     "metadata": {},
     "output_type": "display_data"
    },
    {
     "data": {
      "text/html": [
       "Syncing run <strong><a href='https://wandb.ai/anothy1/mamba-ehr-modeling/runs/yw2ez4ot' target=\"_blank\">peach-sun-18</a></strong> to <a href='https://wandb.ai/anothy1/mamba-ehr-modeling' target=\"_blank\">Weights & Biases</a> (<a href='https://wandb.me/run' target=\"_blank\">docs</a>)<br/>"
      ],
      "text/plain": [
       "<IPython.core.display.HTML object>"
      ]
     },
     "metadata": {},
     "output_type": "display_data"
    },
    {
     "data": {
      "text/html": [
       " View project at <a href='https://wandb.ai/anothy1/mamba-ehr-modeling' target=\"_blank\">https://wandb.ai/anothy1/mamba-ehr-modeling</a>"
      ],
      "text/plain": [
       "<IPython.core.display.HTML object>"
      ]
     },
     "metadata": {},
     "output_type": "display_data"
    },
    {
     "data": {
      "text/html": [
       " View run at <a href='https://wandb.ai/anothy1/mamba-ehr-modeling/runs/yw2ez4ot' target=\"_blank\">https://wandb.ai/anothy1/mamba-ehr-modeling/runs/yw2ez4ot</a>"
      ],
      "text/plain": [
       "<IPython.core.display.HTML object>"
      ]
     },
     "metadata": {},
     "output_type": "display_data"
    }
   ],
   "source": [
    "from transformers import get_linear_schedule_with_warmup\n",
    "import wandb\n",
    "\n",
    "wandb.init(\n",
    "    project=f\"mamba-ehr-modeling\",\n",
    "    config={}\n",
    ")\n",
    "\n",
    "\n",
    "epochs = 15\n",
    "gradient_accumulation_steps = 1\n",
    "\n",
    "lr = 5e-5\n",
    "optimizer = torch.optim.AdamW(model.parameters(), lr=lr, betas=(0.9, 0.95))\n",
    "total_steps = (epochs * len(trainloader)) // (gradient_accumulation_steps)\n",
    "warmup_steps = int(total_steps * 0.1)\n",
    "\n",
    "scheduler = get_linear_schedule_with_warmup(\n",
    "    optimizer,\n",
    "    num_warmup_steps=warmup_steps,\n",
    "    num_training_steps=total_steps\n",
    ")"
   ]
  },
  {
   "cell_type": "code",
   "execution_count": 3,
   "id": "8b6735a0-774c-4275-9a7c-71d00a502612",
   "metadata": {},
   "outputs": [
    {
     "name": "stderr",
     "output_type": "stream",
     "text": [
      "Epoch 1:   0%|                                                                    | 57/71694 [00:57<20:12:25,  1.02s/it]\n"
     ]
    },
    {
     "ename": "KeyboardInterrupt",
     "evalue": "",
     "output_type": "error",
     "traceback": [
      "\u001b[0;31m---------------------------------------------------------------------------\u001b[0m",
      "\u001b[0;31mKeyboardInterrupt\u001b[0m                         Traceback (most recent call last)",
      "Cell \u001b[0;32mIn[3], line 8\u001b[0m\n\u001b[1;32m      6\u001b[0m \u001b[38;5;28;01mfor\u001b[39;00m epoch \u001b[38;5;129;01min\u001b[39;00m \u001b[38;5;28mrange\u001b[39m(epochs):\n\u001b[1;32m      7\u001b[0m     \u001b[38;5;28;01mfor\u001b[39;00m batch \u001b[38;5;129;01min\u001b[39;00m tqdm(trainloader, desc\u001b[38;5;241m=\u001b[39m\u001b[38;5;124mf\u001b[39m\u001b[38;5;124m\"\u001b[39m\u001b[38;5;124mEpoch \u001b[39m\u001b[38;5;132;01m{\u001b[39;00mepoch\u001b[38;5;250m \u001b[39m\u001b[38;5;241m+\u001b[39m\u001b[38;5;250m \u001b[39m\u001b[38;5;241m1\u001b[39m\u001b[38;5;132;01m}\u001b[39;00m\u001b[38;5;124m\"\u001b[39m):\n\u001b[0;32m----> 8\u001b[0m         batch \u001b[38;5;241m=\u001b[39m \u001b[43m{\u001b[49m\u001b[43mkey\u001b[49m\u001b[43m:\u001b[49m\u001b[43m \u001b[49m\u001b[43mbatch\u001b[49m\u001b[43m[\u001b[49m\u001b[43mkey\u001b[49m\u001b[43m]\u001b[49m\u001b[38;5;241;43m.\u001b[39;49m\u001b[43mto\u001b[49m\u001b[43m(\u001b[49m\u001b[43mdevice\u001b[49m\u001b[43m)\u001b[49m\u001b[43m \u001b[49m\u001b[38;5;28;43;01mfor\u001b[39;49;00m\u001b[43m \u001b[49m\u001b[43mkey\u001b[49m\u001b[43m \u001b[49m\u001b[38;5;129;43;01min\u001b[39;49;00m\u001b[43m \u001b[49m\u001b[43mbatch\u001b[49m\u001b[38;5;241;43m.\u001b[39;49m\u001b[43mkeys\u001b[49m\u001b[43m(\u001b[49m\u001b[43m)\u001b[49m\u001b[43m}\u001b[49m\n\u001b[1;32m      9\u001b[0m         output \u001b[38;5;241m=\u001b[39m model(\n\u001b[1;32m     10\u001b[0m             input_ids\u001b[38;5;241m=\u001b[39mbatch[\u001b[38;5;124m\"\u001b[39m\u001b[38;5;124mconcept_ids\u001b[39m\u001b[38;5;124m\"\u001b[39m],\n\u001b[1;32m     11\u001b[0m             age_ids\u001b[38;5;241m=\u001b[39mbatch[\u001b[38;5;124m\"\u001b[39m\u001b[38;5;124mage_ids\u001b[39m\u001b[38;5;124m\"\u001b[39m],\n\u001b[0;32m   (...)\u001b[0m\n\u001b[1;32m     15\u001b[0m             labels\u001b[38;5;241m=\u001b[39mbatch[\u001b[38;5;124m\"\u001b[39m\u001b[38;5;124mconcept_ids\u001b[39m\u001b[38;5;124m\"\u001b[39m]\n\u001b[1;32m     16\u001b[0m         )\n\u001b[1;32m     17\u001b[0m         loss \u001b[38;5;241m=\u001b[39m output\u001b[38;5;241m.\u001b[39mloss\n",
      "Cell \u001b[0;32mIn[3], line 8\u001b[0m, in \u001b[0;36m<dictcomp>\u001b[0;34m(.0)\u001b[0m\n\u001b[1;32m      6\u001b[0m \u001b[38;5;28;01mfor\u001b[39;00m epoch \u001b[38;5;129;01min\u001b[39;00m \u001b[38;5;28mrange\u001b[39m(epochs):\n\u001b[1;32m      7\u001b[0m     \u001b[38;5;28;01mfor\u001b[39;00m batch \u001b[38;5;129;01min\u001b[39;00m tqdm(trainloader, desc\u001b[38;5;241m=\u001b[39m\u001b[38;5;124mf\u001b[39m\u001b[38;5;124m\"\u001b[39m\u001b[38;5;124mEpoch \u001b[39m\u001b[38;5;132;01m{\u001b[39;00mepoch\u001b[38;5;250m \u001b[39m\u001b[38;5;241m+\u001b[39m\u001b[38;5;250m \u001b[39m\u001b[38;5;241m1\u001b[39m\u001b[38;5;132;01m}\u001b[39;00m\u001b[38;5;124m\"\u001b[39m):\n\u001b[0;32m----> 8\u001b[0m         batch \u001b[38;5;241m=\u001b[39m {key: \u001b[43mbatch\u001b[49m\u001b[43m[\u001b[49m\u001b[43mkey\u001b[49m\u001b[43m]\u001b[49m\u001b[38;5;241;43m.\u001b[39;49m\u001b[43mto\u001b[49m\u001b[43m(\u001b[49m\u001b[43mdevice\u001b[49m\u001b[43m)\u001b[49m \u001b[38;5;28;01mfor\u001b[39;00m key \u001b[38;5;129;01min\u001b[39;00m batch\u001b[38;5;241m.\u001b[39mkeys()}\n\u001b[1;32m      9\u001b[0m         output \u001b[38;5;241m=\u001b[39m model(\n\u001b[1;32m     10\u001b[0m             input_ids\u001b[38;5;241m=\u001b[39mbatch[\u001b[38;5;124m\"\u001b[39m\u001b[38;5;124mconcept_ids\u001b[39m\u001b[38;5;124m\"\u001b[39m],\n\u001b[1;32m     11\u001b[0m             age_ids\u001b[38;5;241m=\u001b[39mbatch[\u001b[38;5;124m\"\u001b[39m\u001b[38;5;124mage_ids\u001b[39m\u001b[38;5;124m\"\u001b[39m],\n\u001b[0;32m   (...)\u001b[0m\n\u001b[1;32m     15\u001b[0m             labels\u001b[38;5;241m=\u001b[39mbatch[\u001b[38;5;124m\"\u001b[39m\u001b[38;5;124mconcept_ids\u001b[39m\u001b[38;5;124m\"\u001b[39m]\n\u001b[1;32m     16\u001b[0m         )\n\u001b[1;32m     17\u001b[0m         loss \u001b[38;5;241m=\u001b[39m output\u001b[38;5;241m.\u001b[39mloss\n",
      "\u001b[0;31mKeyboardInterrupt\u001b[0m: "
     ]
    }
   ],
   "source": [
    "from tqdm import tqdm\n",
    "step_counter = 0\n",
    "\n",
    "#model = torch.compile(model)\n",
    "\n",
    "for epoch in range(epochs):\n",
    "    for batch in tqdm(trainloader, desc=f\"Epoch {epoch + 1}\"):\n",
    "        batch = {key: batch[key].to(device) for key in batch.keys()}\n",
    "        output = model(\n",
    "            input_ids=batch[\"concept_ids\"],\n",
    "            age_ids=batch[\"age_ids\"],\n",
    "            time_ids=batch[\"time_ids\"],\n",
    "            segment_ids=batch[\"segment_ids\"],\n",
    "            visit_order_ids=batch[\"visit_order_ids\"],\n",
    "            labels=batch[\"concept_ids\"]\n",
    "        )\n",
    "        loss = output.loss\n",
    "\n",
    "        if loss.item() < 1:\n",
    "            print(loss, batch[\"concept_ids\"])\n",
    "\n",
    "        loss.backward()\n",
    "        optimizer.step()\n",
    "        scheduler.step()\n",
    "\n",
    "        step_counter += 1\n",
    "\n",
    "        if step_counter % 10 == 0:\n",
    "            wandb.log({f\"train/loss\": loss.item(), \"lr\": optimizer.param_groups[-1]['lr']})"
   ]
  }
 ],
 "metadata": {
  "kernelspec": {
   "display_name": "Python 3 (ipykernel)",
   "language": "python",
   "name": "python3"
  },
  "language_info": {
   "codemirror_mode": {
    "name": "ipython",
    "version": 3
   },
   "file_extension": ".py",
   "mimetype": "text/x-python",
   "name": "python",
   "nbconvert_exporter": "python",
   "pygments_lexer": "ipython3",
   "version": "3.11.9"
  }
 },
 "nbformat": 4,
 "nbformat_minor": 5
}
